{
  "nbformat": 4,
  "nbformat_minor": 0,
  "metadata": {
    "colab": {
      "provenance": []
    },
    "kernelspec": {
      "name": "python3",
      "display_name": "Python 3"
    },
    "language_info": {
      "name": "python"
    }
  },
  "cells": [
    {
      "cell_type": "code",
      "execution_count": null,
      "metadata": {
        "id": "VIkMbKSLFPk2"
      },
      "outputs": [],
      "source": []
    },
    {
      "cell_type": "code",
      "source": [
        "pip install numpy pandas scikit-learn\n"
      ],
      "metadata": {
        "colab": {
          "base_uri": "https://localhost:8080/"
        },
        "id": "CeJAGWTGFY79",
        "outputId": "3780c3ea-6e15-41f1-e334-992a3015ae77"
      },
      "execution_count": 15,
      "outputs": [
        {
          "output_type": "stream",
          "name": "stdout",
          "text": [
            "Requirement already satisfied: numpy in /usr/local/lib/python3.10/dist-packages (1.26.4)\n",
            "Requirement already satisfied: pandas in /usr/local/lib/python3.10/dist-packages (2.1.4)\n",
            "Requirement already satisfied: scikit-learn in /usr/local/lib/python3.10/dist-packages (1.3.2)\n",
            "Requirement already satisfied: python-dateutil>=2.8.2 in /usr/local/lib/python3.10/dist-packages (from pandas) (2.8.2)\n",
            "Requirement already satisfied: pytz>=2020.1 in /usr/local/lib/python3.10/dist-packages (from pandas) (2024.1)\n",
            "Requirement already satisfied: tzdata>=2022.1 in /usr/local/lib/python3.10/dist-packages (from pandas) (2024.1)\n",
            "Requirement already satisfied: scipy>=1.5.0 in /usr/local/lib/python3.10/dist-packages (from scikit-learn) (1.13.1)\n",
            "Requirement already satisfied: joblib>=1.1.1 in /usr/local/lib/python3.10/dist-packages (from scikit-learn) (1.4.2)\n",
            "Requirement already satisfied: threadpoolctl>=2.0.0 in /usr/local/lib/python3.10/dist-packages (from scikit-learn) (3.5.0)\n",
            "Requirement already satisfied: six>=1.5 in /usr/local/lib/python3.10/dist-packages (from python-dateutil>=2.8.2->pandas) (1.16.0)\n"
          ]
        }
      ]
    },
    {
      "cell_type": "code",
      "source": [
        "pip install matplotlib"
      ],
      "metadata": {
        "colab": {
          "base_uri": "https://localhost:8080/"
        },
        "id": "9b1OhtYyFc02",
        "outputId": "13f4c551-a56d-4405-9b1d-719014c60db0"
      },
      "execution_count": 16,
      "outputs": [
        {
          "output_type": "stream",
          "name": "stdout",
          "text": [
            "Requirement already satisfied: matplotlib in /usr/local/lib/python3.10/dist-packages (3.7.1)\n",
            "Requirement already satisfied: contourpy>=1.0.1 in /usr/local/lib/python3.10/dist-packages (from matplotlib) (1.2.1)\n",
            "Requirement already satisfied: cycler>=0.10 in /usr/local/lib/python3.10/dist-packages (from matplotlib) (0.12.1)\n",
            "Requirement already satisfied: fonttools>=4.22.0 in /usr/local/lib/python3.10/dist-packages (from matplotlib) (4.53.1)\n",
            "Requirement already satisfied: kiwisolver>=1.0.1 in /usr/local/lib/python3.10/dist-packages (from matplotlib) (1.4.5)\n",
            "Requirement already satisfied: numpy>=1.20 in /usr/local/lib/python3.10/dist-packages (from matplotlib) (1.26.4)\n",
            "Requirement already satisfied: packaging>=20.0 in /usr/local/lib/python3.10/dist-packages (from matplotlib) (24.1)\n",
            "Requirement already satisfied: pillow>=6.2.0 in /usr/local/lib/python3.10/dist-packages (from matplotlib) (9.4.0)\n",
            "Requirement already satisfied: pyparsing>=2.3.1 in /usr/local/lib/python3.10/dist-packages (from matplotlib) (3.1.2)\n",
            "Requirement already satisfied: python-dateutil>=2.7 in /usr/local/lib/python3.10/dist-packages (from matplotlib) (2.8.2)\n",
            "Requirement already satisfied: six>=1.5 in /usr/local/lib/python3.10/dist-packages (from python-dateutil>=2.7->matplotlib) (1.16.0)\n"
          ]
        }
      ]
    },
    {
      "cell_type": "code",
      "source": [
        "import pandas as pd\n",
        "\n",
        "# Load the dataset\n",
        "data = pd.read_csv('/content/climate_change.csv')\n",
        "\n",
        "# Display the first few rows\n",
        "print(data.head())"
      ],
      "metadata": {
        "colab": {
          "base_uri": "https://localhost:8080/"
        },
        "id": "UnD4PpvOFqML",
        "outputId": "c3a105ce-1e30-47cb-c8b8-d71de4657757"
      },
      "execution_count": null,
      "outputs": [
        {
          "output_type": "stream",
          "name": "stdout",
          "text": [
            "   Year  Month    MEI     CO2      CH4      N2O   CFC-11   CFC-12        TSI  \\\n",
            "0  1983      5  2.556  345.96  1638.59  303.677  191.324  350.113  1366.1024   \n",
            "1  1983      6  2.167  345.52  1633.71  303.746  192.057  351.848  1366.1208   \n",
            "2  1983      7  1.741  344.15  1633.22  303.795  192.818  353.725  1366.2850   \n",
            "3  1983      8  1.130  342.25  1631.35  303.839  193.602  355.633  1366.4202   \n",
            "4  1983      9  0.428  340.17  1648.40  303.901  194.392  357.465  1366.2335   \n",
            "\n",
            "   Aerosols   Temp  \n",
            "0    0.0863  0.109  \n",
            "1    0.0794  0.118  \n",
            "2    0.0731  0.137  \n",
            "3    0.0673  0.176  \n",
            "4    0.0619  0.149  \n"
          ]
        }
      ]
    },
    {
      "cell_type": "code",
      "source": [
        "\n",
        "data.isna().sum()"
      ],
      "metadata": {
        "colab": {
          "base_uri": "https://localhost:8080/",
          "height": 429
        },
        "id": "r8hyBDzeF1ta",
        "outputId": "8cfc741e-1726-405f-ab95-2cd65016bc83"
      },
      "execution_count": null,
      "outputs": [
        {
          "output_type": "execute_result",
          "data": {
            "text/plain": [
              "Year        0\n",
              "Month       0\n",
              "MEI         0\n",
              "CO2         0\n",
              "CH4         0\n",
              "N2O         0\n",
              "CFC-11      0\n",
              "CFC-12      0\n",
              "TSI         0\n",
              "Aerosols    0\n",
              "Temp        0\n",
              "dtype: int64"
            ],
            "text/html": [
              "<div>\n",
              "<style scoped>\n",
              "    .dataframe tbody tr th:only-of-type {\n",
              "        vertical-align: middle;\n",
              "    }\n",
              "\n",
              "    .dataframe tbody tr th {\n",
              "        vertical-align: top;\n",
              "    }\n",
              "\n",
              "    .dataframe thead th {\n",
              "        text-align: right;\n",
              "    }\n",
              "</style>\n",
              "<table border=\"1\" class=\"dataframe\">\n",
              "  <thead>\n",
              "    <tr style=\"text-align: right;\">\n",
              "      <th></th>\n",
              "      <th>0</th>\n",
              "    </tr>\n",
              "  </thead>\n",
              "  <tbody>\n",
              "    <tr>\n",
              "      <th>Year</th>\n",
              "      <td>0</td>\n",
              "    </tr>\n",
              "    <tr>\n",
              "      <th>Month</th>\n",
              "      <td>0</td>\n",
              "    </tr>\n",
              "    <tr>\n",
              "      <th>MEI</th>\n",
              "      <td>0</td>\n",
              "    </tr>\n",
              "    <tr>\n",
              "      <th>CO2</th>\n",
              "      <td>0</td>\n",
              "    </tr>\n",
              "    <tr>\n",
              "      <th>CH4</th>\n",
              "      <td>0</td>\n",
              "    </tr>\n",
              "    <tr>\n",
              "      <th>N2O</th>\n",
              "      <td>0</td>\n",
              "    </tr>\n",
              "    <tr>\n",
              "      <th>CFC-11</th>\n",
              "      <td>0</td>\n",
              "    </tr>\n",
              "    <tr>\n",
              "      <th>CFC-12</th>\n",
              "      <td>0</td>\n",
              "    </tr>\n",
              "    <tr>\n",
              "      <th>TSI</th>\n",
              "      <td>0</td>\n",
              "    </tr>\n",
              "    <tr>\n",
              "      <th>Aerosols</th>\n",
              "      <td>0</td>\n",
              "    </tr>\n",
              "    <tr>\n",
              "      <th>Temp</th>\n",
              "      <td>0</td>\n",
              "    </tr>\n",
              "  </tbody>\n",
              "</table>\n",
              "</div><br><label><b>dtype:</b> int64</label>"
            ]
          },
          "metadata": {},
          "execution_count": 4
        }
      ]
    },
    {
      "cell_type": "code",
      "source": [
        "data.shape"
      ],
      "metadata": {
        "colab": {
          "base_uri": "https://localhost:8080/"
        },
        "id": "CG9R14XuGT-z",
        "outputId": "2c62820c-dd43-498d-c497-aee939bbfaec"
      },
      "execution_count": null,
      "outputs": [
        {
          "output_type": "execute_result",
          "data": {
            "text/plain": [
              "(308, 11)"
            ]
          },
          "metadata": {},
          "execution_count": 5
        }
      ]
    },
    {
      "cell_type": "code",
      "source": [
        "#splitting the  x(features) and y(target):\n",
        "from sklearn.model_selection import train_test_split\n",
        "X=data[['MEI', 'CO2', 'CH4', 'N2O', 'CFC-11', 'CFC-12', 'TSI', 'Aerosols','Year', 'Month']]\n",
        "Y = data[['Temp']]\n",
        "#Splitting the data into test and training set:\n",
        "X_train, X_test, Y_train, Y_test = train_test_split(X, Y, test_size=0.2, random_state=42)\n",
        "print(\"X_train\",X_train.shape)\n",
        "print(\"X_test\",X_test.shape)\n",
        "print(\"Y_train\",Y_train.shape)\n",
        "print(\"Y_test\",Y_test.shape)"
      ],
      "metadata": {
        "colab": {
          "base_uri": "https://localhost:8080/"
        },
        "id": "DwHZaOSCGI_F",
        "outputId": "654b6277-7ee3-4ab8-ecbf-c95072678ce4"
      },
      "execution_count": null,
      "outputs": [
        {
          "output_type": "stream",
          "name": "stdout",
          "text": [
            "X_train (246, 10)\n",
            "X_test (62, 10)\n",
            "Y_train (246, 1)\n",
            "Y_test (62, 1)\n"
          ]
        }
      ]
    },
    {
      "cell_type": "code",
      "source": [
        "#Training part:\n",
        "from sklearn.linear_model import LinearRegression\n",
        "model = LinearRegression()\n",
        "model.fit(X_train, Y_train)\n",
        "\n",
        "#Evaluating part:\n",
        "Y_pred = model.predict(X_test)\n",
        "print(Y_pred)"
      ],
      "metadata": {
        "colab": {
          "base_uri": "https://localhost:8080/"
        },
        "id": "o1AH78yVGaSh",
        "outputId": "5f7acc95-e015-46ba-e205-32aa2e0fe786"
      },
      "execution_count": null,
      "outputs": [
        {
          "output_type": "stream",
          "name": "stdout",
          "text": [
            "[[ 0.43410989]\n",
            " [-0.00495396]\n",
            " [ 0.16218317]\n",
            " [ 0.13460296]\n",
            " [ 0.03036101]\n",
            " [ 0.01250716]\n",
            " [ 0.16376034]\n",
            " [ 0.27553363]\n",
            " [ 0.44448294]\n",
            " [ 0.16049482]\n",
            " [ 0.11699698]\n",
            " [ 0.21763125]\n",
            " [ 0.31998011]\n",
            " [ 0.34694863]\n",
            " [ 0.47858159]\n",
            " [ 0.40166935]\n",
            " [ 0.00376265]\n",
            " [ 0.21139584]\n",
            " [ 0.24181103]\n",
            " [ 0.34644871]\n",
            " [ 0.13436707]\n",
            " [ 0.08731834]\n",
            " [ 0.24822377]\n",
            " [ 0.38553884]\n",
            " [ 0.10807193]\n",
            " [ 0.42021577]\n",
            " [ 0.03968196]\n",
            " [ 0.02309824]\n",
            " [ 0.38600869]\n",
            " [ 0.45728593]\n",
            " [ 0.1435636 ]\n",
            " [ 0.08947709]\n",
            " [ 0.23667741]\n",
            " [ 0.45202949]\n",
            " [ 0.18341751]\n",
            " [ 0.02961778]\n",
            " [ 0.12175279]\n",
            " [ 0.01203108]\n",
            " [ 0.28199745]\n",
            " [ 0.2141094 ]\n",
            " [ 0.05857292]\n",
            " [-0.01306987]\n",
            " [ 0.50135483]\n",
            " [ 0.42519693]\n",
            " [ 0.36626568]\n",
            " [ 0.31205049]\n",
            " [ 0.45739852]\n",
            " [ 0.0078261 ]\n",
            " [ 0.42888667]\n",
            " [ 0.15889079]\n",
            " [ 0.06386955]\n",
            " [ 0.44849749]\n",
            " [ 0.25452771]\n",
            " [ 0.21808651]\n",
            " [ 0.40438254]\n",
            " [ 0.43600779]\n",
            " [ 0.40471896]\n",
            " [ 0.28805331]\n",
            " [ 0.32213685]\n",
            " [ 0.36644981]\n",
            " [ 0.49036366]\n",
            " [ 0.22666118]]\n"
          ]
        }
      ]
    },
    {
      "cell_type": "code",
      "source": [
        "# Calculate the Mean Squared Error (MSE) and R-squared (R^2) value\n",
        "from sklearn.metrics import mean_squared_error, r2_score\n",
        "mse = mean_squared_error(Y_test, Y_pred)\n",
        "r2 = r2_score(Y_test, Y_pred)\n",
        "print(\"Mean Squared Error:\", mse)\n",
        "print(\"R-squared:\", r2)"
      ],
      "metadata": {
        "colab": {
          "base_uri": "https://localhost:8080/"
        },
        "id": "e7ofLXxDGnax",
        "outputId": "8b5541c4-f083-4543-f886-e2f0ba27c19a"
      },
      "execution_count": null,
      "outputs": [
        {
          "output_type": "stream",
          "name": "stdout",
          "text": [
            "Mean Squared Error: 0.00941572216887505\n",
            "R-squared: 0.7083677744990772\n"
          ]
        }
      ]
    },
    {
      "cell_type": "code",
      "source": [
        "import matplotlib.pyplot as plt\n",
        "import numpy as np\n",
        "\n",
        "# Scatter plot of actual vs. predicted values\n",
        "plt.figure(figsize=(8, 6))\n",
        "plt.scatter(Y_test, Y_test, color='blue', label='Actual Temperature')  # Actual values in blue\n",
        "plt.scatter(Y_test, Y_pred, color='orange', label='Predicted Temperature')  # Predicted values in orange\n",
        "plt.xlabel('Actual Temperature')\n",
        "plt.ylabel('Predicted Temperature')\n",
        "plt.title('Actual vs. Predicted Temperature', color='red')\n",
        "plt.legend()\n",
        "plt.show()\n"
      ],
      "metadata": {
        "colab": {
          "base_uri": "https://localhost:8080/",
          "height": 564
        },
        "id": "bA0TT-vkHKWR",
        "outputId": "d4069fb3-55d3-4ca0-a96c-7aeff1f34266"
      },
      "execution_count": null,
      "outputs": [
        {
          "output_type": "display_data",
          "data": {
            "text/plain": [
              "<Figure size 800x600 with 1 Axes>"
            ],
            "image/png": "[encoded data removed]"
          },
          "metadata": {}
        }
      ]
    },
    {
      "cell_type": "code",
      "source": [
        "import matplotlib.pyplot as plt\n",
        "import seaborn as sns"
      ],
      "metadata": {
        "id": "av8jwoMiyPZO"
      },
      "execution_count": null,
      "outputs": []
    },
    {
      "cell_type": "code",
      "source": [
        "residuals_classical = Y_test - Y_pred\n",
        "plt.subplot(1, 2, 2)\n",
        "sns.histplot(residuals_classical, kde=True, color='blue')\n",
        "plt.title('Classical Model: Residuals Distribution')\n",
        "plt.xlabel('Residuals')\n"
      ],
      "metadata": {
        "colab": {
          "base_uri": "https://localhost:8080/",
          "height": 489
        },
        "id": "qzSK-w2dyRuq",
        "outputId": "90c2c98b-dc66-41e7-f1b7-350eb1e6c8c8"
      },
      "execution_count": null,
      "outputs": [
        {
          "output_type": "execute_result",
          "data": {
            "text/plain": [
              "Text(0.5, 0, 'Residuals')"
            ]
          },
          "metadata": {},
          "execution_count": 14
        },
        {
          "output_type": "display_data",
          "data": {
            "text/plain": [
              "<Figure size 640x480 with 1 Axes>"
            ],
            "image/png": "[encoded data removed]"
          },
          "metadata": {}
        }
      ]
    }
  ]
}